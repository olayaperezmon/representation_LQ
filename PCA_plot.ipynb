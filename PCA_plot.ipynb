{
 "cells": [
  {
   "cell_type": "code",
   "execution_count": 86,
   "metadata": {},
   "outputs": [],
   "source": [
    "import json\n",
    "import numpy as np\n",
    "import matplotlib.pyplot as plt\n",
    "import imageio\n",
    "import os\n",
    "from sklearn.decomposition import PCA"
   ]
  },
  {
   "cell_type": "code",
   "execution_count": 87,
   "metadata": {},
   "outputs": [],
   "source": [
    "if not os.path.exists('temp_images'):\n",
    "    os.makedirs('temp_images')\n",
    "\n",
    "datos = []\n",
    "with open('data.json', 'r') as f:\n",
    "    for line in f:\n",
    "        datos.append(json.loads(line))\n"
   ]
  },
  {
   "cell_type": "code",
   "execution_count": 88,
   "metadata": {},
   "outputs": [],
   "source": [
    "qs = []\n",
    "M_prevs = []\n",
    "M_prev_contrs = []\n",
    "\n",
    "for epoch_data in datos:\n",
    "    qs.append(np.array(epoch_data['q']))\n",
    "    M_prevs.append(np.array(epoch_data['M_prev']))\n",
    "    M_prev_contrs.append(np.array(epoch_data['M_prev_contr']))\n",
    "\n",
    "qs = np.array(qs)\n",
    "M_prevs = np.array(M_prevs)\n",
    "M_prev_contrs = np.array(M_prev_contrs)"
   ]
  },
  {
   "cell_type": "code",
   "execution_count": 89,
   "metadata": {},
   "outputs": [],
   "source": [
    "comp_mat = np.vstack((qs, M_prevs, M_prev_contrs))"
   ]
  },
  {
   "cell_type": "code",
   "execution_count": 90,
   "metadata": {},
   "outputs": [],
   "source": [
    "#2D\n",
    "pca_comp_mat = PCA(n_components=2)\n",
    "pca_2d = pca_comp_mat.fit_transform(comp_mat)"
   ]
  },
  {
   "cell_type": "code",
   "execution_count": 91,
   "metadata": {},
   "outputs": [],
   "source": [
    "x_min, x_max = pca_2d[:, 0].min()-0.2, pca_2d[:, 0].max()+0.2\n",
    "y_min, y_max = pca_2d[:, 1].min()-0.2, pca_2d[:, 1].max()+0.2"
   ]
  },
  {
   "cell_type": "code",
   "execution_count": 92,
   "metadata": {},
   "outputs": [],
   "source": [
    "n = pca_2d.shape[0]\n",
    "qs_2d = pca_2d[:n//3, :]\n",
    "M_prevs_2d = pca_2d[n//3:2*n//3, :]\n",
    "M_prev_contrs_2d = pca_2d[2*n//3:, :]"
   ]
  },
  {
   "cell_type": "code",
   "execution_count": 93,
   "metadata": {},
   "outputs": [],
   "source": [
    "age = 0\n",
    "epoch = 0\n",
    "n_epochs = 20\n",
    "for i in range(len(datos)):\n",
    "    fig = plt.figure()\n",
    "    ax = fig.add_subplot(111)\n",
    "    \n",
    "    ax.scatter(qs_2d[i, 0], qs_2d[i, 1], color='r', marker='o',  label='q')\n",
    "    ax.scatter(M_prevs_2d[i, 0], M_prevs_2d[i, 1], color='g', marker='^', label='M_prev')\n",
    "    ax.scatter(M_prev_contrs_2d[i, 0], M_prev_contrs_2d[i, 1], color='b', marker='s', label='M_prev_contr')\n",
    "    \n",
    "    if i%n_epochs == 0: \n",
    "        age = age+1\n",
    "        epoch = 0\n",
    "    else: \n",
    "        epoch = epoch+1\n",
    "\n",
    "    ax.set_title(f'PCA - Age {age} Epoch {epoch}')\n",
    "    ax.set_xlim([x_min, x_max])\n",
    "    ax.set_ylim([y_min, y_max])\n",
    "    ax.legend(loc='upper left', bbox_to_anchor=(1, 1))\n",
    "\n",
    "    plt.savefig(f'temp_images/pca_{i}.png')\n",
    "    plt.close()\n"
   ]
  },
  {
   "cell_type": "code",
   "execution_count": 94,
   "metadata": {},
   "outputs": [
    {
     "name": "stdout",
     "output_type": "stream",
     "text": [
      "Done\n"
     ]
    }
   ],
   "source": [
    "images = []\n",
    "for i in range(0, len(datos), 2):\n",
    "    filename = f'temp_images/pca_{i}.png'\n",
    "    images.append(imageio.v2.imread(filename))\n",
    "        \n",
    "imageio.mimsave('pca__2.gif', images, fps=2)\n",
    "print(\"Done\")"
   ]
  },
  {
   "cell_type": "code",
   "execution_count": 85,
   "metadata": {},
   "outputs": [],
   "source": [
    "for file_name in os.listdir('temp_images'):\n",
    "    file_path = os.path.join('temp_images', file_name)\n",
    "    if os.path.isfile(file_path):\n",
    "        os.unlink(file_path)\n",
    "\n",
    "os.rmdir('temp_images')"
   ]
  },
  {
   "cell_type": "code",
   "execution_count": null,
   "metadata": {},
   "outputs": [],
   "source": []
  }
 ],
 "metadata": {
  "kernelspec": {
   "display_name": "lequa",
   "language": "python",
   "name": "python3"
  },
  "language_info": {
   "codemirror_mode": {
    "name": "ipython",
    "version": 3
   },
   "file_extension": ".py",
   "mimetype": "text/x-python",
   "name": "python",
   "nbconvert_exporter": "python",
   "pygments_lexer": "ipython3",
   "version": "3.12.3"
  }
 },
 "nbformat": 4,
 "nbformat_minor": 2
}
